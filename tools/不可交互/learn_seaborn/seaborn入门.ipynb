{
 "cells": [
  {
   "cell_type": "code",
   "execution_count": 2,
   "metadata": {
    "ExecuteTime": {
     "end_time": "2019-12-09T16:00:11.094006Z",
     "start_time": "2019-12-09T16:00:10.497231Z"
    }
   },
   "outputs": [
    {
     "data": {
      "text/plain": [
       "'system: Microsoft Windows 10 企业版, 18362, 64 位'"
      ]
     },
     "execution_count": 2,
     "metadata": {},
     "output_type": "execute_result"
    },
    {
     "data": {
      "text/plain": [
       "'memory: 15.86G'"
      ]
     },
     "execution_count": 2,
     "metadata": {},
     "output_type": "execute_result"
    },
    {
     "data": {
      "text/plain": [
       "'cpu: 4'"
      ]
     },
     "execution_count": 2,
     "metadata": {},
     "output_type": "execute_result"
    },
    {
     "data": {
      "text/plain": [
       "'python: 3.6.9 |Anaconda custom (64-bit)| (default, Jul 30 2019, 14:00:49) [MSC v.1915 64 bit (AMD64)]'"
      ]
     },
     "execution_count": 2,
     "metadata": {},
     "output_type": "execute_result"
    },
    {
     "data": {
      "text/plain": [
       "'2019-12-10 00:00:11'"
      ]
     },
     "execution_count": 2,
     "metadata": {},
     "output_type": "execute_result"
    }
   ],
   "source": [
    "import sys, time, wmi, psutil\n",
    "SYSTEM_INFO = wmi.WMI().Win32_OperatingSystem()[0]\n",
    "\"system: {0}, {1}, {2}\".format(SYSTEM_INFO.Caption, SYSTEM_INFO.BuildNumber, SYSTEM_INFO.OSArchitecture) \n",
    "\"memory: {}G\".format(round(psutil.virtual_memory().total / 1024**3, 2))\n",
    "\"cpu: {}\".format(psutil.cpu_count())\n",
    "\"python: {}\".format(sys.version)\n",
    "time.strftime('%Y-%m-%d %H:%M:%S', time.localtime(time.time()))"
   ]
  },
  {
   "cell_type": "markdown",
   "metadata": {},
   "source": [
    "- **@author**: run_walker\n",
    "- **@references**:\n",
    "    1. [github > seaborn](https://github.com/mwaskom/seaborn)\n",
    "    2. [官方文档](http://seaborn.pydata.org/)\n",
    "    3. [Seaborn 0.9 中文文档](https://www.cntofu.com/book/172/index.html)\n",
    "    4. [Example gallery](http://seaborn.pydata.org/examples/index.html)"
   ]
  },
  {
   "cell_type": "markdown",
   "metadata": {},
   "source": [
    "# 介绍"
   ]
  },
  {
   "cell_type": "code",
   "execution_count": 1,
   "metadata": {
    "ExecuteTime": {
     "end_time": "2019-12-09T16:00:10.486527Z",
     "start_time": "2019-12-09T16:00:05.894885Z"
    }
   },
   "outputs": [
    {
     "data": {
      "text/html": [
       "<div style=\"display:table;width:900px\">\n",
       "    <h1 style=\"position:relative;float:left;display:block;margin-block-start: 0.67em;margin-block-end: 0.67em;margin-inline-start: 0px;margin-inline-end: 0px;max-width:635px;padding-left:18px;font-size:18px;line-height:26px;color:#586069;\">\n",
       "        <svg style=\"position:absolute;top:0;left:0;margin-top:5px;color:#959da5;fill:currentColor;vertical-align:text-bottom;\"\n",
       "             viewBox=\"0 0 12 16\" version=\"1.1\" width=\"12\" height=\"16\" aria-hidden=\"true\">\n",
       "            <path fill-rule=\"evenodd\"\n",
       "                  d=\"M4 9H3V8h1v1zm0-3H3v1h1V6zm0-2H3v1h1V4zm0-2H3v1h1V2zm8-1v12c0 .55-.45 1-1 1H6v2l-1.5-1.5L3 16v-2H1c-.55 0-1-.45-1-1V1c0-.55.45-1 1-1h10c.55 0 1 .45 1 1zm-1 10H1v2h2v-1h3v1h5v-2zm0-10H2v9h9V1z\">\n",
       "            </path>\n",
       "        </svg>\n",
       "        <a style=\"box-shadow:transparent 0px 0px;color:#0366d6;text-decoration:none;background-color:initial;box-sizing:border-box;font-size: 18px;line-height:26px;font-weight:400;font-family:-apple-system,BlinkMacSystemFont,Segoe UI,Helvetica,Arial,sans-serif,Apple Color Emoji,Segoe UI Emoji;\">\n",
       "            mwaskom\n",
       "        </a>\n",
       "        <a style=\"margin-top:0px;margin-right:0.25em;margin-bottom:0px;margin-left:0.25em;color:#586069;font-family: -apple-system,BlinkMacSystemFont,Segoe UI,Helvetica,Arial,sans-serif,Apple Color Emoji,Segoe UI Emoji;\">\n",
       "            /\n",
       "        </a>\n",
       "        <a style=\"color:#0366d6;text-decoration:none;background-color:initial;\"\n",
       "           href=\"https://github.com/mwaskom/seaborn\">\n",
       "            seaborn\n",
       "        </a>\n",
       "    </h1>\n",
       "    <ul style=\"position: relative;z-index:31;float:right;margin:0;display:block;list-style-type:disc;margin-block-start:1em;margin-block-end:1em;margin-inline-start:0px;margin-inline-end:0px;padding-inline-start:40px;\">\n",
       "        <!-- <li style=\"float:left;margin:0 10px 0 0;font-size:11px;color:#24292e;list-style-type:none;\">\n",
       "            <a style=\"position:relative;display:inline-block;font-weight:600;white-space:nowrap;vertical-align:middle;background-repeat:repeat-x;background-position:-1px -1px;background-size:110% 110%;border:1px solid rgba(27,31,35,.2);border-radius:.25em;padding:3px 10px;font-size:12px;line-height:20px;float:left;border-top-right-radius:0;border-bottom-right-radius:0;color:#24292e;background-color:#eff3f6;background-image:linear-gradient(-180deg,#fafbfc,#eff3f6 90%);\">\n",
       "                <svg style=\"display:inline-block;fill:currentColor;vertical-align:text-bottom!important;\" viewBox=\"0 0 16 16\" version=\"1.1\" width=\"16\" height=\"16\" aria-hidden=\"true\">\n",
       "                    <path fill-rule=\"evenodd\" d=\"M1 4.27v7.47c0 .45.3.84.75.97l6.5 1.73c.16.05.34.05.5 0l6.5-1.73c.45-.13.75-.52.75-.97V4.27c0-.45-.3-.84-.75-.97l-6.5-1.74a1.4 1.4 0 00-.5 0L1.75 3.3c-.45.13-.75.52-.75.97zm7 9.09l-6-1.59V5l6 1.61v6.75zM2 4l2.5-.67L11 5.06l-2.5.67L2 4zm13 7.77l-6 1.59V6.61l2-.55V8.5l2-.53V5.53L15 5v6.77zm-2-7.24L6.5 2.8l2-.53L15 4l-2 .53z\">\n",
       "                    </path>\n",
       "                </svg>\n",
       "                Used by\n",
       "            </a>\n",
       "            <a style=\"float:left;padding:3px 10px;font-size:12px;font-weight:600;line-height:20px;color:#24292e;vertical-align:middle;background-color:#fff;border:1px solid rgba(27,31,35,.2);border-left:0;border-top-right-radius:3px;border-bottom-right-radius:3px;\">\n",
       "                189\n",
       "            </a>\n",
       "        </li> -->\n",
       "        <li style=\"float:left;margin:0 10px 0 0;font-size:11px;color:#24292e;list-style-type:none;\">\n",
       "            <a style=\"position:relative;display:inline-block;font-weight:600;white-space:nowrap;vertical-align:middle;background-repeat:repeat-x;background-position:-1px -1px;background-size:110% 110%;border:1px solid rgba(27,31,35,.2);border-radius:.25em;padding:3px 10px;font-size:12px;line-height:20px;float:left;border-top-right-radius:0;border-bottom-right-radius:0;color:#24292e;background-color:#eff3f6;background-image:linear-gradient(-180deg,#fafbfc,#eff3f6 90%);\">\n",
       "                <svg style=\"display:inline-block;fill:currentColor;vertical-align:text-bottom!important;\"\n",
       "                     viewBox=\"0 0 16 16\" version=\"1.1\" width=\"16\" height=\"16\" aria-hidden=\"true\">\n",
       "                    <path fill-rule=\"evenodd\"\n",
       "                          d=\"M8.06 2C3 2 0 8 0 8s3 6 8.06 6C13 14 16 8 16 8s-3-6-7.94-6zM8 12c-2.2 0-4-1.78-4-4 0-2.2 1.8-4 4-4 2.22 0 4 1.8 4 4 0 2.22-1.78 4-4 4zm2-4c0 1.11-.89 2-2 2-1.11 0-2-.89-2-2 0-1.11.89-2 2-2 1.11 0 2 .89 2 2z\">\n",
       "                    </path>\n",
       "                </svg>\n",
       "                Watch\n",
       "            </a>\n",
       "            <a style=\"float:left;padding:3px 10px;font-size:12px;font-weight:600;line-height:20px;color:#24292e;vertical-align:middle;background-color:#fff;border:1px solid rgba(27,31,35,.2);border-left:0;border-top-right-radius:3px;border-bottom-right-radius:3px;\">\n",
       "                242\n",
       "            </a>\n",
       "        </li>\n",
       "        <li style=\"float:left;margin:0 10px 0 0;font-size:11px;color:#24292e;list-style-type:none;\">\n",
       "            <a style=\"position:relative;display:inline-block;font-weight:600;white-space:nowrap;vertical-align:middle;background-repeat:repeat-x;background-position:-1px -1px;background-size:110% 110%;border:1px solid rgba(27,31,35,.2);border-radius:.25em;padding:3px 10px;font-size:12px;line-height:20px;float:left;border-top-right-radius:0;border-bottom-right-radius:0;color:#24292e;background-color:#eff3f6;background-image:linear-gradient(-180deg,#fafbfc,#eff3f6 90%);\">\n",
       "                <svg style=\"display:inline-block;fill:currentColor;vertical-align:text-bottom!important;\"\n",
       "                     viewBox=\"0 0 14 16\" version=\"1.1\" width=\"14\" height=\"16\" aria-hidden=\"true\">\n",
       "                    <path fill-rule=\"evenodd\"\n",
       "                          d=\"M14 6l-4.9-.64L7 1 4.9 5.36 0 6l3.6 3.26L2.67 14 7 11.67 11.33 14l-.93-4.74L14 6z\">\n",
       "                    </path>\n",
       "                </svg>\n",
       "                Star\n",
       "            </a>\n",
       "            <a style=\"float:left;padding:3px 10px;font-size:12px;font-weight:600;line-height:20px;color:#24292e;vertical-align:middle;background-color:#fff;border:1px solid rgba(27,31,35,.2);border-left:0;border-top-right-radius:3px;border-bottom-right-radius:3px;\">\n",
       "                6637\n",
       "            </a>\n",
       "        </li>\n",
       "        <li style=\"float:left;margin:0 10px 0 0;font-size:11px;color:#24292e;list-style-type:none;\">\n",
       "            <a style=\"position:relative;display:inline-block;font-weight:600;white-space:nowrap;vertical-align:middle;background-repeat:repeat-x;background-position:-1px -1px;background-size:110% 110%;border:1px solid rgba(27,31,35,.2);border-radius:.25em;padding:3px 10px;font-size:12px;line-height:20px;float:left;border-top-right-radius:0;border-bottom-right-radius:0;color:#24292e;background-color:#eff3f6;background-image:linear-gradient(-180deg,#fafbfc,#eff3f6 90%);\">\n",
       "                <svg style=\"display:inline-block;fill:currentColor;vertical-align:text-bottom!important;\"\n",
       "                     viewBox=\"0 0 10 16\" version=\"1.1\" width=\"10\" height=\"16\" aria-hidden=\"true\">\n",
       "                    <path fill-rule=\"evenodd\"\n",
       "                          d=\"M8 1a1.993 1.993 0 00-1 3.72V6L5 8 3 6V4.72A1.993 1.993 0 002 1a1.993 1.993 0 00-1 3.72V6.5l3 3v1.78A1.993 1.993 0 005 15a1.993 1.993 0 001-3.72V9.5l3-3V4.72A1.993 1.993 0 008 1zM2 4.2C1.34 4.2.8 3.65.8 3c0-.65.55-1.2 1.2-1.2.65 0 1.2.55 1.2 1.2 0 .65-.55 1.2-1.2 1.2zm3 10c-.66 0-1.2-.55-1.2-1.2 0-.65.55-1.2 1.2-1.2.65 0 1.2.55 1.2 1.2 0 .65-.55 1.2-1.2 1.2zm3-10c-.66 0-1.2-.55-1.2-1.2 0-.65.55-1.2 1.2-1.2.65 0 1.2.55 1.2 1.2 0 .65-.55 1.2-1.2 1.2z\">\n",
       "                    </path>\n",
       "                </svg>\n",
       "                Fork\n",
       "            </a>\n",
       "            <a style=\"float:left;padding:3px 10px;font-size:12px;font-weight:600;line-height:20px;color:#24292e;vertical-align:middle;background-color:#fff;border:1px solid rgba(27,31,35,.2);border-left:0;border-top-right-radius:3px;border-bottom-right-radius:3px;\">\n",
       "                1106\n",
       "            </a>\n",
       "        </li>\n",
       "    </ul>\n",
       "</div>\n",
       "<div class=\"f4\">\n",
       "<span class=\"text-gray-dark mr-2\" itemprop=\"about\">\n",
       "          Statistical data visualization using matplotlib\n",
       "        </span>\n",
       "<span itemprop=\"url\"><a href=\"http://seaborn.pydata.org\" rel=\"nofollow\">http://seaborn.pydata.org</a></span>\n",
       "</div>"
      ],
      "text/plain": [
       "<IPython.core.display.HTML object>"
      ]
     },
     "execution_count": 1,
     "metadata": {},
     "output_type": "execute_result"
    }
   ],
   "source": [
    "from RunSpiders import get_popularity_info\n",
    "\n",
    "get_popularity_info('https://github.com/mwaskom/seaborn')"
   ]
  },
  {
   "cell_type": "markdown",
   "metadata": {},
   "source": [
    "***Seaborn*** is a Python visualization library based on `matplotlib`. It provides a high-level interface for drawing attractive statistical graphics."
   ]
  },
  {
   "cell_type": "code",
   "execution_count": null,
   "metadata": {},
   "outputs": [],
   "source": []
  }
 ],
 "metadata": {
  "anaconda-cloud": {},
  "hide_input": false,
  "kernelspec": {
   "display_name": "python36",
   "language": "python",
   "name": "python36"
  },
  "language_info": {
   "codemirror_mode": {
    "name": "ipython",
    "version": 3
   },
   "file_extension": ".py",
   "mimetype": "text/x-python",
   "name": "python",
   "nbconvert_exporter": "python",
   "pygments_lexer": "ipython3",
   "version": "3.6.9"
  },
  "latex_envs": {
   "LaTeX_envs_menu_present": true,
   "autoclose": false,
   "autocomplete": true,
   "bibliofile": "biblio.bib",
   "cite_by": "apalike",
   "current_citInitial": 1,
   "eqLabelWithNumbers": true,
   "eqNumInitial": 1,
   "hotkeys": {
    "equation": "Ctrl-E",
    "itemize": "Ctrl-I"
   },
   "labels_anchors": false,
   "latex_user_defs": false,
   "report_style_numbering": false,
   "user_envs_cfg": false
  },
  "toc": {
   "base_numbering": 1,
   "nav_menu": {},
   "number_sections": true,
   "sideBar": true,
   "skip_h1_title": false,
   "title_cell": "Table of Contents",
   "title_sidebar": "Contents",
   "toc_cell": false,
   "toc_position": {},
   "toc_section_display": true,
   "toc_window_display": false
  },
  "varInspector": {
   "cols": {
    "lenName": 16,
    "lenType": 16,
    "lenVar": 40
   },
   "kernels_config": {
    "python": {
     "delete_cmd_postfix": "",
     "delete_cmd_prefix": "del ",
     "library": "var_list.py",
     "varRefreshCmd": "print(var_dic_list())"
    },
    "r": {
     "delete_cmd_postfix": ") ",
     "delete_cmd_prefix": "rm(",
     "library": "var_list.r",
     "varRefreshCmd": "cat(var_dic_list()) "
    }
   },
   "types_to_exclude": [
    "module",
    "function",
    "builtin_function_or_method",
    "instance",
    "_Feature"
   ],
   "window_display": false
  }
 },
 "nbformat": 4,
 "nbformat_minor": 2
}
