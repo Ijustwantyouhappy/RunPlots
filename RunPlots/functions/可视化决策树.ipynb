{
 "cells": [
  {
   "cell_type": "code",
   "execution_count": 1,
   "metadata": {},
   "outputs": [
    {
     "data": {
      "text/plain": [
       "'system: Microsoft Windows 10 教育版, 18362, 64 位'"
      ]
     },
     "execution_count": 1,
     "metadata": {},
     "output_type": "execute_result"
    },
    {
     "data": {
      "text/plain": [
       "'memory: 15.86G'"
      ]
     },
     "execution_count": 1,
     "metadata": {},
     "output_type": "execute_result"
    },
    {
     "data": {
      "text/plain": [
       "'cpu: 4'"
      ]
     },
     "execution_count": 1,
     "metadata": {},
     "output_type": "execute_result"
    },
    {
     "data": {
      "text/plain": [
       "'python: 3.7.1 (default, Oct 28 2018, 08:39:03) [MSC v.1912 64 bit (AMD64)]'"
      ]
     },
     "execution_count": 1,
     "metadata": {},
     "output_type": "execute_result"
    },
    {
     "data": {
      "text/plain": [
       "'2020-02-29 16:14:57'"
      ]
     },
     "execution_count": 1,
     "metadata": {},
     "output_type": "execute_result"
    }
   ],
   "source": [
    "import sys, time, wmi, psutil\n",
    "SYSTEM_INFO = wmi.WMI().Win32_OperatingSystem()[0]\n",
    "\"system: {0}, {1}, {2}\".format(SYSTEM_INFO.Caption, SYSTEM_INFO.BuildNumber, SYSTEM_INFO.OSArchitecture) \n",
    "\"memory: {}G\".format(round(psutil.virtual_memory().total / 1024**3, 2))\n",
    "\"cpu: {}\".format(psutil.cpu_count())\n",
    "\"python: {}\".format(sys.version)\n",
    "time.strftime('%Y-%m-%d %H:%M:%S', time.localtime(time.time()))"
   ]
  },
  {
   "cell_type": "markdown",
   "metadata": {},
   "source": [
    "# 决策树模型的可视化\n",
    "- 自己实现\n",
    "- 或者使用`sklearn.tree`中自带的`plot_tree`函数"
   ]
  },
  {
   "cell_type": "markdown",
   "metadata": {},
   "source": [
    "1. 通过`sklearn.tree.export_graphviz()`将决策树导出到str\n",
    "2. 通过`pydotplus.graph_from_dot_data()`从决策树的str表示实例化Dot对象\n",
    "3. graph对象有多种方式保存到各类文件，如`write_png`、`write_pdf`等\n",
    "4. 在notebook中可以通过`ipywidgets.Image`实例化Image对象或者通过`IPython.display.SVG`，从而对图片进行预览"
   ]
  },
  {
   "cell_type": "code",
   "execution_count": 2,
   "metadata": {},
   "outputs": [],
   "source": [
    "from sklearn.tree import export_graphviz\n",
    "import pydotplus\n",
    "from ipywidgets import Image\n",
    "from IPython.display import SVG\n",
    "\n",
    "\n",
    "def visualize_tree(tree, feature_names, rounded=True, display_type='svg'):\n",
    "    \"\"\"\n",
    "    \n",
    "    Parameters\n",
    "    ----------\n",
    "    tree : 决策树模型的实例\n",
    "    feature_names :\n",
    "    rounded : 是否为圆角矩形，默认为True\n",
    "    display_type : 目前支持svg和png，svg要比png清晰很多\n",
    "\n",
    "    Returns\n",
    "    -------\n",
    "\n",
    "    \"\"\"\n",
    "    # 将决策树的GraphViz表示导出到str\n",
    "    tree_str = export_graphviz(\n",
    "        tree, feature_names=feature_names,\n",
    "        out_file=None, filled=True, rounded=rounded)\n",
    "    graph = pydotplus.graph_from_dot_data(tree_str)\n",
    "\n",
    "    # 在notebook内预览图片\n",
    "    if display_type == 'svg':\n",
    "        img = SVG(graph.create_svg())\n",
    "    elif display_type == 'png':\n",
    "        img = Image(value=graph.create_png())\n",
    "    else:\n",
    "        print(f\"invalid `display_type`: {display_type}\")\n",
    "\n",
    "    return graph, img\n",
    "\n",
    "\n",
    "# save\n",
    "# graph.write_pdf()  # to pdf\n",
    "# graph.write_png()  # to png"
   ]
  },
  {
   "cell_type": "markdown",
   "metadata": {},
   "source": [
    "或者使用`sklearn.tree`中自带的`plot_tree`函数，但没找到怎么设置箭头，以及清晰度不如svg。注意，调用该函数后接`;`，可以屏蔽树模型文字表述的输出。"
   ]
  },
  {
   "cell_type": "code",
   "execution_count": 3,
   "metadata": {
    "scrolled": true
   },
   "outputs": [
    {
     "data": {
      "text/plain": [
       "\u001b[1;31mSignature:\u001b[0m\n",
       "\u001b[0mplot_tree\u001b[0m\u001b[1;33m(\u001b[0m\u001b[1;33m\n",
       "\u001b[0m    \u001b[0mdecision_tree\u001b[0m\u001b[1;33m,\u001b[0m\u001b[1;33m\n",
       "\u001b[0m    \u001b[0mmax_depth\u001b[0m\u001b[1;33m=\u001b[0m\u001b[1;32mNone\u001b[0m\u001b[1;33m,\u001b[0m\u001b[1;33m\n",
       "\u001b[0m    \u001b[0mfeature_names\u001b[0m\u001b[1;33m=\u001b[0m\u001b[1;32mNone\u001b[0m\u001b[1;33m,\u001b[0m\u001b[1;33m\n",
       "\u001b[0m    \u001b[0mclass_names\u001b[0m\u001b[1;33m=\u001b[0m\u001b[1;32mNone\u001b[0m\u001b[1;33m,\u001b[0m\u001b[1;33m\n",
       "\u001b[0m    \u001b[0mlabel\u001b[0m\u001b[1;33m=\u001b[0m\u001b[1;34m'all'\u001b[0m\u001b[1;33m,\u001b[0m\u001b[1;33m\n",
       "\u001b[0m    \u001b[0mfilled\u001b[0m\u001b[1;33m=\u001b[0m\u001b[1;32mFalse\u001b[0m\u001b[1;33m,\u001b[0m\u001b[1;33m\n",
       "\u001b[0m    \u001b[0mimpurity\u001b[0m\u001b[1;33m=\u001b[0m\u001b[1;32mTrue\u001b[0m\u001b[1;33m,\u001b[0m\u001b[1;33m\n",
       "\u001b[0m    \u001b[0mnode_ids\u001b[0m\u001b[1;33m=\u001b[0m\u001b[1;32mFalse\u001b[0m\u001b[1;33m,\u001b[0m\u001b[1;33m\n",
       "\u001b[0m    \u001b[0mproportion\u001b[0m\u001b[1;33m=\u001b[0m\u001b[1;32mFalse\u001b[0m\u001b[1;33m,\u001b[0m\u001b[1;33m\n",
       "\u001b[0m    \u001b[0mrotate\u001b[0m\u001b[1;33m=\u001b[0m\u001b[1;32mFalse\u001b[0m\u001b[1;33m,\u001b[0m\u001b[1;33m\n",
       "\u001b[0m    \u001b[0mrounded\u001b[0m\u001b[1;33m=\u001b[0m\u001b[1;32mFalse\u001b[0m\u001b[1;33m,\u001b[0m\u001b[1;33m\n",
       "\u001b[0m    \u001b[0mprecision\u001b[0m\u001b[1;33m=\u001b[0m\u001b[1;36m3\u001b[0m\u001b[1;33m,\u001b[0m\u001b[1;33m\n",
       "\u001b[0m    \u001b[0max\u001b[0m\u001b[1;33m=\u001b[0m\u001b[1;32mNone\u001b[0m\u001b[1;33m,\u001b[0m\u001b[1;33m\n",
       "\u001b[0m    \u001b[0mfontsize\u001b[0m\u001b[1;33m=\u001b[0m\u001b[1;32mNone\u001b[0m\u001b[1;33m,\u001b[0m\u001b[1;33m\n",
       "\u001b[0m\u001b[1;33m)\u001b[0m\u001b[1;33m\u001b[0m\u001b[1;33m\u001b[0m\u001b[0m\n",
       "\u001b[1;31mDocstring:\u001b[0m\n",
       "Plot a decision tree.\n",
       "\n",
       "The sample counts that are shown are weighted with any sample_weights that\n",
       "might be present.\n",
       "\n",
       "The visualization is fit automatically to the size of the axis.\n",
       "Use the ``figsize`` or ``dpi`` arguments of ``plt.figure``  to control\n",
       "the size of the rendering.\n",
       "\n",
       "Read more in the :ref:`User Guide <tree>`.\n",
       "\n",
       ".. versionadded:: 0.21\n",
       "\n",
       "Parameters\n",
       "----------\n",
       "decision_tree : decision tree regressor or classifier\n",
       "    The decision tree to be plotted.\n",
       "\n",
       "max_depth : int, optional (default=None)\n",
       "    The maximum depth of the representation. If None, the tree is fully\n",
       "    generated.\n",
       "\n",
       "feature_names : list of strings, optional (default=None)\n",
       "    Names of each of the features.\n",
       "\n",
       "class_names : list of strings, bool or None, optional (default=None)\n",
       "    Names of each of the target classes in ascending numerical order.\n",
       "    Only relevant for classification and not supported for multi-output.\n",
       "    If ``True``, shows a symbolic representation of the class name.\n",
       "\n",
       "label : {'all', 'root', 'none'}, optional (default='all')\n",
       "    Whether to show informative labels for impurity, etc.\n",
       "    Options include 'all' to show at every node, 'root' to show only at\n",
       "    the top root node, or 'none' to not show at any node.\n",
       "\n",
       "filled : bool, optional (default=False)\n",
       "    When set to ``True``, paint nodes to indicate majority class for\n",
       "    classification, extremity of values for regression, or purity of node\n",
       "    for multi-output.\n",
       "\n",
       "impurity : bool, optional (default=True)\n",
       "    When set to ``True``, show the impurity at each node.\n",
       "\n",
       "node_ids : bool, optional (default=False)\n",
       "    When set to ``True``, show the ID number on each node.\n",
       "\n",
       "proportion : bool, optional (default=False)\n",
       "    When set to ``True``, change the display of 'values' and/or 'samples'\n",
       "    to be proportions and percentages respectively.\n",
       "\n",
       "rotate : bool, optional (default=False)\n",
       "    When set to ``True``, orient tree left to right rather than top-down.\n",
       "\n",
       "rounded : bool, optional (default=False)\n",
       "    When set to ``True``, draw node boxes with rounded corners and use\n",
       "    Helvetica fonts instead of Times-Roman.\n",
       "\n",
       "precision : int, optional (default=3)\n",
       "    Number of digits of precision for floating point in the values of\n",
       "    impurity, threshold and value attributes of each node.\n",
       "\n",
       "ax : matplotlib axis, optional (default=None)\n",
       "    Axes to plot to. If None, use current axis. Any previous content\n",
       "    is cleared.\n",
       "\n",
       "fontsize : int, optional (default=None)\n",
       "    Size of text font. If None, determined automatically to fit figure.\n",
       "\n",
       "Returns\n",
       "-------\n",
       "annotations : list of artists\n",
       "    List containing the artists for the annotation boxes making up the\n",
       "    tree.\n",
       "\n",
       "Examples\n",
       "--------\n",
       ">>> from sklearn.datasets import load_iris\n",
       ">>> from sklearn import tree\n",
       "\n",
       ">>> clf = tree.DecisionTreeClassifier(random_state=0)\n",
       ">>> iris = load_iris()\n",
       "\n",
       ">>> clf = clf.fit(iris.data, iris.target)\n",
       ">>> tree.plot_tree(clf)  # doctest: +SKIP\n",
       "[Text(251.5,345.217,'X[3] <= 0.8...\n",
       "\u001b[1;31mFile:\u001b[0m      c:\\users\\admin\\appdata\\roaming\\python\\python37\\site-packages\\sklearn\\tree\\_export.py\n",
       "\u001b[1;31mType:\u001b[0m      function\n"
      ]
     },
     "metadata": {},
     "output_type": "display_data"
    }
   ],
   "source": [
    "from sklearn.tree import plot_tree\n",
    "\n",
    "?plot_tree"
   ]
  },
  {
   "cell_type": "code",
   "execution_count": null,
   "metadata": {},
   "outputs": [],
   "source": []
  }
 ],
 "metadata": {
  "kernelspec": {
   "display_name": "python37",
   "language": "python",
   "name": "python37"
  },
  "language_info": {
   "codemirror_mode": {
    "name": "ipython",
    "version": 3
   },
   "file_extension": ".py",
   "mimetype": "text/x-python",
   "name": "python",
   "nbconvert_exporter": "python",
   "pygments_lexer": "ipython3",
   "version": "3.7.1"
  }
 },
 "nbformat": 4,
 "nbformat_minor": 4
}
